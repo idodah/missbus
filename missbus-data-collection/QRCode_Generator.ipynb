{
  "nbformat": 4,
  "nbformat_minor": 0,
  "metadata": {
    "colab": {
      "provenance": []
    },
    "kernelspec": {
      "name": "python3",
      "display_name": "Python 3"
    },
    "language_info": {
      "name": "python"
    }
  },
  "cells": [
    {
      "cell_type": "markdown",
      "source": [
        "Code Generator:"
      ],
      "metadata": {
        "id": "3Mya2cYlZo-8"
      }
    },
    {
      "cell_type": "code",
      "source": [
        "# !pip install qrcode[pil]\n",
        "\n",
        "import qrcode"
      ],
      "metadata": {
        "id": "CBid8zUv4Auw"
      },
      "execution_count": null,
      "outputs": []
    },
    {
      "cell_type": "code",
      "source": [
        "dct = {\"Yitzhack Rager - Yosef Ben Matityahu\": 13105, \n",
        "       \"Railway Station - David Ben Gurion Boulevard\": 11601, \n",
        "       \"The student dormitories - Ben Gurion Boulevard\": 13992,\n",
        "       \"Ben Gurion University Sports Center\": 13983,\n",
        "       \"Soroka Outpatient Clinics - Ben Gurion University\": 13518,\n",
        "       \"Soroka Outpatient Clinics - Ben Gurion University (2)\": 13949,\n",
        "       \"Emergency Soroka - Yitzhack Rager\": 11342,\n",
        "       \"Soroka Medical Center - Yitzhack Rager\": 13106,\n",
        "       \"Masada Road - Tchernichovsky\": 13086,\n",
        "       \"Masada Road - Hazal\": 11132,\n",
        "       \"Derech Metsada - Yehuda Halevi\": 11292}"
      ],
      "metadata": {
        "id": "e4alYDvN4HV5"
      },
      "execution_count": null,
      "outputs": []
    },
    {
      "cell_type": "code",
      "execution_count": null,
      "metadata": {
        "id": "n27EAbL026HN"
      },
      "outputs": [],
      "source": [
        "for station_name, station_id in dct.items():\n",
        "  # Create a QR code image\n",
        "  qr = qrcode.QRCode(\n",
        "      version=1,\n",
        "      error_correction=qrcode.constants.ERROR_CORRECT_L,\n",
        "      box_size=10,\n",
        "      border=2,\n",
        "  )\n",
        "\n",
        "  # Add data to the QR code, including a domain\n",
        "  data = f\"https://missbus-a70db.web.app/station/{station_id}\"\n",
        "  qr.add_data(data)\n",
        "  qr.make(fit=True)\n",
        "\n",
        "  # Create an image from the QR code\n",
        "  img = qr.make_image(fill_color=\"#272C74\", back_color=\"white\")\n",
        "\n",
        "  # Save the image to a file\n",
        "  img.save(f\"{station_name}.png\")"
      ]
    },
    {
      "cell_type": "code",
      "source": [
        "import os\n",
        "import zipfile\n",
        "\n",
        "# Change the path to the directory containing the PNG files\n",
        "path = '.'\n",
        "\n",
        "# Create a ZipFile object\n",
        "zip_folder = zipfile.ZipFile('QRCodes.zip', 'w')\n",
        "\n",
        "# Iterate through the directory and add each PNG file to the zip folder\n",
        "for root, dirs, files in os.walk(path):\n",
        "  for file in files:\n",
        "    if file.endswith('.png'):\n",
        "      file_path = os.path.join(root, file)\n",
        "      zip_folder.write(file_path)\\\n",
        "\n",
        "zip_folder.close()"
      ],
      "metadata": {
        "id": "aBOpNURP6HDW"
      },
      "execution_count": null,
      "outputs": []
    }
  ]
}
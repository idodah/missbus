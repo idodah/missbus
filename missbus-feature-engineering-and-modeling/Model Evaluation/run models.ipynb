{
  "nbformat": 4,
  "nbformat_minor": 0,
  "metadata": {
    "colab": {
      "provenance": []
    },
    "kernelspec": {
      "name": "python3",
      "display_name": "Python 3"
    },
    "language_info": {
      "name": "python"
    }
  },
  "cells": [
    {
      "cell_type": "markdown",
      "source": [
        "# Imports"
      ],
      "metadata": {
        "id": "aNxv0FatZ42_"
      }
    },
    {
      "cell_type": "code",
      "source": [
        "import pandas as pd\n",
        "\n",
        "from sklearn.preprocessing import LabelEncoder\n",
        "import numpy as np\n",
        "from sklearn.ensemble import RandomForestClassifier\n",
        "from sklearn.tree import DecisionTreeClassifier\n",
        "from sklearn.metrics import accuracy_score,precision_score,recall_score,f1_score\n",
        "\n",
        "from sklearn.model_selection import train_test_split\n",
        "import xgboost as xgb\n",
        "\n",
        "np.random.seed(1)"
      ],
      "metadata": {
        "id": "2OL46zYEZz19"
      },
      "execution_count": 1,
      "outputs": []
    },
    {
      "cell_type": "markdown",
      "source": [
        "# Data Preprocessing"
      ],
      "metadata": {
        "id": "UrN-rBjfZ_oF"
      }
    },
    {
      "cell_type": "code",
      "execution_count": 2,
      "metadata": {
        "id": "zTyxqf334gMz"
      },
      "outputs": [],
      "source": [
        "\n",
        "df=pd.read_csv('complaints_df.csv')\n",
        "df['busTime'] = pd.to_datetime(df['busTime'])\n",
        "\n",
        "# Initialize LabelEncoder\n",
        "label_encoder = LabelEncoder()\n",
        "# Delete rows where the specific column has the specific value\n",
        "df = df[df['complainId'] != 'אחר']\n",
        "# Reset the index of the dataframe\n",
        "df = df.reset_index(drop=True)\n",
        "# Encode the categorical column\n",
        "\n",
        "df['isJewishHoliday'] = label_encoder.fit_transform(df['isJewishHoliday'])\n",
        "df['operator'] = label_encoder.fit_transform(df['operator'])\n",
        "df['accesible'] = label_encoder.fit_transform(df['accesible'])"
      ]
    },
    {
      "cell_type": "code",
      "source": [
        "\n",
        "# Convert 'busTime' column to datetime format\n",
        "df['busTime'] = pd.to_datetime(df['busTime'], format='%d/%m/%Y %H:%M')\n",
        "\n",
        "# Define the conditions for removal\n",
        "condition1 = df['complainId'] == 'אוטובוס הגיע בזמן'\n",
        "condition2 = (df['busTime'].dt.month >= 5) & (df['busTime'].dt.day >= 5)\n",
        "\n",
        "# Combine both conditions using the '&' operator\n",
        "combined_condition = condition1 & condition2\n",
        "\n",
        "df=df.drop(['busTime'],axis=1)\n",
        "imbalanced_df=df\n",
        "\n",
        "# Drop rows that meet the combined condition\n",
        "df = df[~combined_condition]\n",
        "df['complainId'] = label_encoder.fit_transform(df['complainId'])"
      ],
      "metadata": {
        "id": "6tbxrO7vcnK2",
        "colab": {
          "base_uri": "https://localhost:8080/"
        },
        "outputId": "70c896e9-eae8-4d4a-c8cc-b0fe7e556e24"
      },
      "execution_count": 3,
      "outputs": [
        {
          "output_type": "stream",
          "name": "stderr",
          "text": [
            "<ipython-input-3-433d0c33a8ea>:16: SettingWithCopyWarning: \n",
            "A value is trying to be set on a copy of a slice from a DataFrame.\n",
            "Try using .loc[row_indexer,col_indexer] = value instead\n",
            "\n",
            "See the caveats in the documentation: https://pandas.pydata.org/pandas-docs/stable/user_guide/indexing.html#returning-a-view-versus-a-copy\n",
            "  df['complainId'] = label_encoder.fit_transform(df['complainId'])\n"
          ]
        }
      ]
    },
    {
      "cell_type": "code",
      "source": [
        "df"
      ],
      "metadata": {
        "colab": {
          "base_uri": "https://localhost:8080/",
          "height": 487
        },
        "id": "VFo5GbP7c0EI",
        "outputId": "eb832d8c-d49f-4a20-bfc0-01fb2c9fcc58"
      },
      "execution_count": 4,
      "outputs": [
        {
          "output_type": "execute_result",
          "data": {
            "text/plain": [
              "     busLine  complainId  stationId  isJewishHoliday  weekDay  \\\n",
              "0        322           0      13983                0        3   \n",
              "1         16           1      13983                0        3   \n",
              "2         26           2      13992                0        3   \n",
              "3         11           3      11292                0        4   \n",
              "4         11           0      11292                0        4   \n",
              "..       ...         ...        ...              ...      ...   \n",
              "170       10           0      13992                0        4   \n",
              "174       12           0      11342                0        5   \n",
              "178       25           0      13992                0        4   \n",
              "180       12           1      11132                0        5   \n",
              "184        6           0      11132                0        5   \n",
              "\n",
              "     relativeHumidity(%)  temperature(Â°C)  windSpeed(m/s)  rainfall(mm)  \\\n",
              "0                     53              17.0             2.7           0.0   \n",
              "1                     53              17.0             2.7           0.0   \n",
              "2                     48              18.9             3.6           0.0   \n",
              "3                     93               8.4             1.4           0.0   \n",
              "4                     93               8.4             1.4           0.0   \n",
              "..                   ...               ...             ...           ...   \n",
              "170                   50              25.3             3.6           0.0   \n",
              "174                   50              25.3             3.6           0.0   \n",
              "178                   50              25.3             3.6           0.0   \n",
              "180                   39              15.2             2.0           0.0   \n",
              "184                   50              25.3             3.6           0.0   \n",
              "\n",
              "     operator  routeLength  accesible  numberOfStations  weeklyDrives  \\\n",
              "0           4         41.2          1                45            25   \n",
              "1           2         41.2          1                45            25   \n",
              "2           4         47.8          1                35            33   \n",
              "3           2         19.7          0                47           243   \n",
              "4           2         19.7          0                47           243   \n",
              "..        ...          ...        ...               ...           ...   \n",
              "170         2         11.9          1                19           168   \n",
              "174         2          8.8          0                26           491   \n",
              "178         2         16.9          0                44           434   \n",
              "180         2         19.7          0                47           243   \n",
              "184         2         14.0          0                14           500   \n",
              "\n",
              "     numberOfLinesStoppingAtStation  dailyNumberOfPassengersAtStation  hour  \\\n",
              "0                                39                        274.541667    11   \n",
              "1                                39                        151.291667    11   \n",
              "2                                34                        151.291667    13   \n",
              "3                                39                        293.979167     6   \n",
              "4                                39                        293.979167     6   \n",
              "..                              ...                               ...   ...   \n",
              "170                              34                        151.291667    13   \n",
              "174                               8                        110.541667    13   \n",
              "178                              34                        151.291667    13   \n",
              "180                               8                         80.958333     7   \n",
              "184                               8                         80.958333    13   \n",
              "\n",
              "     passengersNumberSum  dailyNumberOfStopsAtStation  \n",
              "0                      6                          771  \n",
              "1                      6                          771  \n",
              "2                      1                          725  \n",
              "3                      1                          294  \n",
              "4                      1                          294  \n",
              "..                   ...                          ...  \n",
              "170                    2                          725  \n",
              "174                    1                          765  \n",
              "178                    3                          725  \n",
              "180                    1                          294  \n",
              "184                    1                          294  \n",
              "\n",
              "[120 rows x 19 columns]"
            ],
            "text/html": [
              "\n",
              "\n",
              "  <div id=\"df-1abcb893-3dd6-4344-bcf9-4674354c7c37\">\n",
              "    <div class=\"colab-df-container\">\n",
              "      <div>\n",
              "<style scoped>\n",
              "    .dataframe tbody tr th:only-of-type {\n",
              "        vertical-align: middle;\n",
              "    }\n",
              "\n",
              "    .dataframe tbody tr th {\n",
              "        vertical-align: top;\n",
              "    }\n",
              "\n",
              "    .dataframe thead th {\n",
              "        text-align: right;\n",
              "    }\n",
              "</style>\n",
              "<table border=\"1\" class=\"dataframe\">\n",
              "  <thead>\n",
              "    <tr style=\"text-align: right;\">\n",
              "      <th></th>\n",
              "      <th>busLine</th>\n",
              "      <th>complainId</th>\n",
              "      <th>stationId</th>\n",
              "      <th>isJewishHoliday</th>\n",
              "      <th>weekDay</th>\n",
              "      <th>relativeHumidity(%)</th>\n",
              "      <th>temperature(Â°C)</th>\n",
              "      <th>windSpeed(m/s)</th>\n",
              "      <th>rainfall(mm)</th>\n",
              "      <th>operator</th>\n",
              "      <th>routeLength</th>\n",
              "      <th>accesible</th>\n",
              "      <th>numberOfStations</th>\n",
              "      <th>weeklyDrives</th>\n",
              "      <th>numberOfLinesStoppingAtStation</th>\n",
              "      <th>dailyNumberOfPassengersAtStation</th>\n",
              "      <th>hour</th>\n",
              "      <th>passengersNumberSum</th>\n",
              "      <th>dailyNumberOfStopsAtStation</th>\n",
              "    </tr>\n",
              "  </thead>\n",
              "  <tbody>\n",
              "    <tr>\n",
              "      <th>0</th>\n",
              "      <td>322</td>\n",
              "      <td>0</td>\n",
              "      <td>13983</td>\n",
              "      <td>0</td>\n",
              "      <td>3</td>\n",
              "      <td>53</td>\n",
              "      <td>17.0</td>\n",
              "      <td>2.7</td>\n",
              "      <td>0.0</td>\n",
              "      <td>4</td>\n",
              "      <td>41.2</td>\n",
              "      <td>1</td>\n",
              "      <td>45</td>\n",
              "      <td>25</td>\n",
              "      <td>39</td>\n",
              "      <td>274.541667</td>\n",
              "      <td>11</td>\n",
              "      <td>6</td>\n",
              "      <td>771</td>\n",
              "    </tr>\n",
              "    <tr>\n",
              "      <th>1</th>\n",
              "      <td>16</td>\n",
              "      <td>1</td>\n",
              "      <td>13983</td>\n",
              "      <td>0</td>\n",
              "      <td>3</td>\n",
              "      <td>53</td>\n",
              "      <td>17.0</td>\n",
              "      <td>2.7</td>\n",
              "      <td>0.0</td>\n",
              "      <td>2</td>\n",
              "      <td>41.2</td>\n",
              "      <td>1</td>\n",
              "      <td>45</td>\n",
              "      <td>25</td>\n",
              "      <td>39</td>\n",
              "      <td>151.291667</td>\n",
              "      <td>11</td>\n",
              "      <td>6</td>\n",
              "      <td>771</td>\n",
              "    </tr>\n",
              "    <tr>\n",
              "      <th>2</th>\n",
              "      <td>26</td>\n",
              "      <td>2</td>\n",
              "      <td>13992</td>\n",
              "      <td>0</td>\n",
              "      <td>3</td>\n",
              "      <td>48</td>\n",
              "      <td>18.9</td>\n",
              "      <td>3.6</td>\n",
              "      <td>0.0</td>\n",
              "      <td>4</td>\n",
              "      <td>47.8</td>\n",
              "      <td>1</td>\n",
              "      <td>35</td>\n",
              "      <td>33</td>\n",
              "      <td>34</td>\n",
              "      <td>151.291667</td>\n",
              "      <td>13</td>\n",
              "      <td>1</td>\n",
              "      <td>725</td>\n",
              "    </tr>\n",
              "    <tr>\n",
              "      <th>3</th>\n",
              "      <td>11</td>\n",
              "      <td>3</td>\n",
              "      <td>11292</td>\n",
              "      <td>0</td>\n",
              "      <td>4</td>\n",
              "      <td>93</td>\n",
              "      <td>8.4</td>\n",
              "      <td>1.4</td>\n",
              "      <td>0.0</td>\n",
              "      <td>2</td>\n",
              "      <td>19.7</td>\n",
              "      <td>0</td>\n",
              "      <td>47</td>\n",
              "      <td>243</td>\n",
              "      <td>39</td>\n",
              "      <td>293.979167</td>\n",
              "      <td>6</td>\n",
              "      <td>1</td>\n",
              "      <td>294</td>\n",
              "    </tr>\n",
              "    <tr>\n",
              "      <th>4</th>\n",
              "      <td>11</td>\n",
              "      <td>0</td>\n",
              "      <td>11292</td>\n",
              "      <td>0</td>\n",
              "      <td>4</td>\n",
              "      <td>93</td>\n",
              "      <td>8.4</td>\n",
              "      <td>1.4</td>\n",
              "      <td>0.0</td>\n",
              "      <td>2</td>\n",
              "      <td>19.7</td>\n",
              "      <td>0</td>\n",
              "      <td>47</td>\n",
              "      <td>243</td>\n",
              "      <td>39</td>\n",
              "      <td>293.979167</td>\n",
              "      <td>6</td>\n",
              "      <td>1</td>\n",
              "      <td>294</td>\n",
              "    </tr>\n",
              "    <tr>\n",
              "      <th>...</th>\n",
              "      <td>...</td>\n",
              "      <td>...</td>\n",
              "      <td>...</td>\n",
              "      <td>...</td>\n",
              "      <td>...</td>\n",
              "      <td>...</td>\n",
              "      <td>...</td>\n",
              "      <td>...</td>\n",
              "      <td>...</td>\n",
              "      <td>...</td>\n",
              "      <td>...</td>\n",
              "      <td>...</td>\n",
              "      <td>...</td>\n",
              "      <td>...</td>\n",
              "      <td>...</td>\n",
              "      <td>...</td>\n",
              "      <td>...</td>\n",
              "      <td>...</td>\n",
              "      <td>...</td>\n",
              "    </tr>\n",
              "    <tr>\n",
              "      <th>170</th>\n",
              "      <td>10</td>\n",
              "      <td>0</td>\n",
              "      <td>13992</td>\n",
              "      <td>0</td>\n",
              "      <td>4</td>\n",
              "      <td>50</td>\n",
              "      <td>25.3</td>\n",
              "      <td>3.6</td>\n",
              "      <td>0.0</td>\n",
              "      <td>2</td>\n",
              "      <td>11.9</td>\n",
              "      <td>1</td>\n",
              "      <td>19</td>\n",
              "      <td>168</td>\n",
              "      <td>34</td>\n",
              "      <td>151.291667</td>\n",
              "      <td>13</td>\n",
              "      <td>2</td>\n",
              "      <td>725</td>\n",
              "    </tr>\n",
              "    <tr>\n",
              "      <th>174</th>\n",
              "      <td>12</td>\n",
              "      <td>0</td>\n",
              "      <td>11342</td>\n",
              "      <td>0</td>\n",
              "      <td>5</td>\n",
              "      <td>50</td>\n",
              "      <td>25.3</td>\n",
              "      <td>3.6</td>\n",
              "      <td>0.0</td>\n",
              "      <td>2</td>\n",
              "      <td>8.8</td>\n",
              "      <td>0</td>\n",
              "      <td>26</td>\n",
              "      <td>491</td>\n",
              "      <td>8</td>\n",
              "      <td>110.541667</td>\n",
              "      <td>13</td>\n",
              "      <td>1</td>\n",
              "      <td>765</td>\n",
              "    </tr>\n",
              "    <tr>\n",
              "      <th>178</th>\n",
              "      <td>25</td>\n",
              "      <td>0</td>\n",
              "      <td>13992</td>\n",
              "      <td>0</td>\n",
              "      <td>4</td>\n",
              "      <td>50</td>\n",
              "      <td>25.3</td>\n",
              "      <td>3.6</td>\n",
              "      <td>0.0</td>\n",
              "      <td>2</td>\n",
              "      <td>16.9</td>\n",
              "      <td>0</td>\n",
              "      <td>44</td>\n",
              "      <td>434</td>\n",
              "      <td>34</td>\n",
              "      <td>151.291667</td>\n",
              "      <td>13</td>\n",
              "      <td>3</td>\n",
              "      <td>725</td>\n",
              "    </tr>\n",
              "    <tr>\n",
              "      <th>180</th>\n",
              "      <td>12</td>\n",
              "      <td>1</td>\n",
              "      <td>11132</td>\n",
              "      <td>0</td>\n",
              "      <td>5</td>\n",
              "      <td>39</td>\n",
              "      <td>15.2</td>\n",
              "      <td>2.0</td>\n",
              "      <td>0.0</td>\n",
              "      <td>2</td>\n",
              "      <td>19.7</td>\n",
              "      <td>0</td>\n",
              "      <td>47</td>\n",
              "      <td>243</td>\n",
              "      <td>8</td>\n",
              "      <td>80.958333</td>\n",
              "      <td>7</td>\n",
              "      <td>1</td>\n",
              "      <td>294</td>\n",
              "    </tr>\n",
              "    <tr>\n",
              "      <th>184</th>\n",
              "      <td>6</td>\n",
              "      <td>0</td>\n",
              "      <td>11132</td>\n",
              "      <td>0</td>\n",
              "      <td>5</td>\n",
              "      <td>50</td>\n",
              "      <td>25.3</td>\n",
              "      <td>3.6</td>\n",
              "      <td>0.0</td>\n",
              "      <td>2</td>\n",
              "      <td>14.0</td>\n",
              "      <td>0</td>\n",
              "      <td>14</td>\n",
              "      <td>500</td>\n",
              "      <td>8</td>\n",
              "      <td>80.958333</td>\n",
              "      <td>13</td>\n",
              "      <td>1</td>\n",
              "      <td>294</td>\n",
              "    </tr>\n",
              "  </tbody>\n",
              "</table>\n",
              "<p>120 rows × 19 columns</p>\n",
              "</div>\n",
              "      <button class=\"colab-df-convert\" onclick=\"convertToInteractive('df-1abcb893-3dd6-4344-bcf9-4674354c7c37')\"\n",
              "              title=\"Convert this dataframe to an interactive table.\"\n",
              "              style=\"display:none;\">\n",
              "\n",
              "  <svg xmlns=\"http://www.w3.org/2000/svg\" height=\"24px\"viewBox=\"0 0 24 24\"\n",
              "       width=\"24px\">\n",
              "    <path d=\"M0 0h24v24H0V0z\" fill=\"none\"/>\n",
              "    <path d=\"M18.56 5.44l.94 2.06.94-2.06 2.06-.94-2.06-.94-.94-2.06-.94 2.06-2.06.94zm-11 1L8.5 8.5l.94-2.06 2.06-.94-2.06-.94L8.5 2.5l-.94 2.06-2.06.94zm10 10l.94 2.06.94-2.06 2.06-.94-2.06-.94-.94-2.06-.94 2.06-2.06.94z\"/><path d=\"M17.41 7.96l-1.37-1.37c-.4-.4-.92-.59-1.43-.59-.52 0-1.04.2-1.43.59L10.3 9.45l-7.72 7.72c-.78.78-.78 2.05 0 2.83L4 21.41c.39.39.9.59 1.41.59.51 0 1.02-.2 1.41-.59l7.78-7.78 2.81-2.81c.8-.78.8-2.07 0-2.86zM5.41 20L4 18.59l7.72-7.72 1.47 1.35L5.41 20z\"/>\n",
              "  </svg>\n",
              "      </button>\n",
              "\n",
              "\n",
              "\n",
              "    <div id=\"df-4338e355-8057-4978-8e4c-a488adda4e45\">\n",
              "      <button class=\"colab-df-quickchart\" onclick=\"quickchart('df-4338e355-8057-4978-8e4c-a488adda4e45')\"\n",
              "              title=\"Suggest charts.\"\n",
              "              style=\"display:none;\">\n",
              "\n",
              "<svg xmlns=\"http://www.w3.org/2000/svg\" height=\"24px\"viewBox=\"0 0 24 24\"\n",
              "     width=\"24px\">\n",
              "    <g>\n",
              "        <path d=\"M19 3H5c-1.1 0-2 .9-2 2v14c0 1.1.9 2 2 2h14c1.1 0 2-.9 2-2V5c0-1.1-.9-2-2-2zM9 17H7v-7h2v7zm4 0h-2V7h2v10zm4 0h-2v-4h2v4z\"/>\n",
              "    </g>\n",
              "</svg>\n",
              "      </button>\n",
              "    </div>\n",
              "\n",
              "<style>\n",
              "  .colab-df-quickchart {\n",
              "    background-color: #E8F0FE;\n",
              "    border: none;\n",
              "    border-radius: 50%;\n",
              "    cursor: pointer;\n",
              "    display: none;\n",
              "    fill: #1967D2;\n",
              "    height: 32px;\n",
              "    padding: 0 0 0 0;\n",
              "    width: 32px;\n",
              "  }\n",
              "\n",
              "  .colab-df-quickchart:hover {\n",
              "    background-color: #E2EBFA;\n",
              "    box-shadow: 0px 1px 2px rgba(60, 64, 67, 0.3), 0px 1px 3px 1px rgba(60, 64, 67, 0.15);\n",
              "    fill: #174EA6;\n",
              "  }\n",
              "\n",
              "  [theme=dark] .colab-df-quickchart {\n",
              "    background-color: #3B4455;\n",
              "    fill: #D2E3FC;\n",
              "  }\n",
              "\n",
              "  [theme=dark] .colab-df-quickchart:hover {\n",
              "    background-color: #434B5C;\n",
              "    box-shadow: 0px 1px 3px 1px rgba(0, 0, 0, 0.15);\n",
              "    filter: drop-shadow(0px 1px 2px rgba(0, 0, 0, 0.3));\n",
              "    fill: #FFFFFF;\n",
              "  }\n",
              "</style>\n",
              "\n",
              "    <script>\n",
              "      async function quickchart(key) {\n",
              "        const containerElement = document.querySelector('#' + key);\n",
              "        const charts = await google.colab.kernel.invokeFunction(\n",
              "            'suggestCharts', [key], {});\n",
              "      }\n",
              "    </script>\n",
              "\n",
              "      <script>\n",
              "\n",
              "function displayQuickchartButton(domScope) {\n",
              "  let quickchartButtonEl =\n",
              "    domScope.querySelector('#df-4338e355-8057-4978-8e4c-a488adda4e45 button.colab-df-quickchart');\n",
              "  quickchartButtonEl.style.display =\n",
              "    google.colab.kernel.accessAllowed ? 'block' : 'none';\n",
              "}\n",
              "\n",
              "        displayQuickchartButton(document);\n",
              "      </script>\n",
              "      <style>\n",
              "    .colab-df-container {\n",
              "      display:flex;\n",
              "      flex-wrap:wrap;\n",
              "      gap: 12px;\n",
              "    }\n",
              "\n",
              "    .colab-df-convert {\n",
              "      background-color: #E8F0FE;\n",
              "      border: none;\n",
              "      border-radius: 50%;\n",
              "      cursor: pointer;\n",
              "      display: none;\n",
              "      fill: #1967D2;\n",
              "      height: 32px;\n",
              "      padding: 0 0 0 0;\n",
              "      width: 32px;\n",
              "    }\n",
              "\n",
              "    .colab-df-convert:hover {\n",
              "      background-color: #E2EBFA;\n",
              "      box-shadow: 0px 1px 2px rgba(60, 64, 67, 0.3), 0px 1px 3px 1px rgba(60, 64, 67, 0.15);\n",
              "      fill: #174EA6;\n",
              "    }\n",
              "\n",
              "    [theme=dark] .colab-df-convert {\n",
              "      background-color: #3B4455;\n",
              "      fill: #D2E3FC;\n",
              "    }\n",
              "\n",
              "    [theme=dark] .colab-df-convert:hover {\n",
              "      background-color: #434B5C;\n",
              "      box-shadow: 0px 1px 3px 1px rgba(0, 0, 0, 0.15);\n",
              "      filter: drop-shadow(0px 1px 2px rgba(0, 0, 0, 0.3));\n",
              "      fill: #FFFFFF;\n",
              "    }\n",
              "  </style>\n",
              "\n",
              "      <script>\n",
              "        const buttonEl =\n",
              "          document.querySelector('#df-1abcb893-3dd6-4344-bcf9-4674354c7c37 button.colab-df-convert');\n",
              "        buttonEl.style.display =\n",
              "          google.colab.kernel.accessAllowed ? 'block' : 'none';\n",
              "\n",
              "        async function convertToInteractive(key) {\n",
              "          const element = document.querySelector('#df-1abcb893-3dd6-4344-bcf9-4674354c7c37');\n",
              "          const dataTable =\n",
              "            await google.colab.kernel.invokeFunction('convertToInteractive',\n",
              "                                                     [key], {});\n",
              "          if (!dataTable) return;\n",
              "\n",
              "          const docLinkHtml = 'Like what you see? Visit the ' +\n",
              "            '<a target=\"_blank\" href=https://colab.research.google.com/notebooks/data_table.ipynb>data table notebook</a>'\n",
              "            + ' to learn more about interactive tables.';\n",
              "          element.innerHTML = '';\n",
              "          dataTable['output_type'] = 'display_data';\n",
              "          await google.colab.output.renderOutput(dataTable, element);\n",
              "          const docLink = document.createElement('div');\n",
              "          docLink.innerHTML = docLinkHtml;\n",
              "          element.appendChild(docLink);\n",
              "        }\n",
              "      </script>\n",
              "    </div>\n",
              "  </div>\n"
            ]
          },
          "metadata": {},
          "execution_count": 4
        }
      ]
    },
    {
      "cell_type": "markdown",
      "source": [
        "# Train Test Split"
      ],
      "metadata": {
        "id": "C5J0pxfYaQD_"
      }
    },
    {
      "cell_type": "code",
      "source": [
        "\n",
        "X = df.drop(['complainId'], axis=1)\n",
        "y = df['complainId']\n",
        "\n",
        "# Split the data into train and test sets, stratifying by the target variable\n",
        "X_train, X_test, y_train, y_test = train_test_split(X, y, test_size=0.201, stratify=y, random_state=1)"
      ],
      "metadata": {
        "id": "07FSseHraN9h"
      },
      "execution_count": 5,
      "outputs": []
    },
    {
      "cell_type": "markdown",
      "source": [
        "# Modeling"
      ],
      "metadata": {
        "id": "cQTGSMGwaXqy"
      }
    },
    {
      "cell_type": "markdown",
      "source": [
        "## Decision Tree"
      ],
      "metadata": {
        "id": "HT2ZgqCAa7pD"
      }
    },
    {
      "cell_type": "code",
      "source": [
        "# Create a Decision Tree Classifier\n",
        "dt_classifier = DecisionTreeClassifier(max_depth=3)\n",
        "\n",
        "# Fit the classifier to the training data\n",
        "dt_classifier.fit(X_train, y_train)\n",
        "\n",
        "# Predict using the trained classifier\n",
        "dt_predictions = dt_classifier.predict(X_test)\n",
        "\n",
        "dt_accuracy = accuracy_score(y_test, dt_predictions)"
      ],
      "metadata": {
        "id": "to1N8qeabAiE"
      },
      "execution_count": 6,
      "outputs": []
    },
    {
      "cell_type": "markdown",
      "source": [
        "## Random Forest"
      ],
      "metadata": {
        "id": "sb5vLH1Haug6"
      }
    },
    {
      "cell_type": "code",
      "source": [
        "# Create a Random Forest Classifier\n",
        "rf_classifier = RandomForestClassifier(n_estimators=100)\n",
        "\n",
        "# Fit the classifier to the training data\n",
        "rf_classifier.fit(X_train, y_train)\n",
        "\n",
        "# Predict using the trained classifier\n",
        "rf_predictions = rf_classifier.predict(X_test)\n",
        "rf_accuracy = accuracy_score(y_test, rf_predictions)"
      ],
      "metadata": {
        "id": "29jy6CYDazdZ"
      },
      "execution_count": 7,
      "outputs": []
    },
    {
      "cell_type": "markdown",
      "source": [
        "## XGBoost"
      ],
      "metadata": {
        "id": "vIkwMT02afrU"
      }
    },
    {
      "cell_type": "code",
      "source": [
        "# Create an XGBoost classifier\n",
        "xgb_classifier = xgb.XGBClassifier(n_estimators=30,max_depth=7,learning_rate=0.1)\n",
        "\n",
        "# Fit the classifier to the training data\n",
        "xgb_classifier.fit(X_train, y_train)\n",
        "\n",
        "# Predict using the trained classifier\n",
        "xgb_predictions = xgb_classifier.predict(X_test)\n",
        "\n",
        "\n",
        "xgb_accuracy = accuracy_score(y_test, xgb_predictions)"
      ],
      "metadata": {
        "id": "R7_snrv8aaoH"
      },
      "execution_count": 8,
      "outputs": []
    },
    {
      "cell_type": "markdown",
      "source": [
        "# Accuracy"
      ],
      "metadata": {
        "id": "zuWFP8kxbLXL"
      }
    },
    {
      "cell_type": "code",
      "source": [
        "print('Random Forest Accuracy: '+str(round(rf_accuracy,5)))\n",
        "\n",
        "print('XGBoost Accuracy: '+str(round(xgb_accuracy,5)))\n",
        "\n",
        "print('Decision Tree Accuracy: ' + str(round(dt_accuracy,5)))"
      ],
      "metadata": {
        "colab": {
          "base_uri": "https://localhost:8080/"
        },
        "id": "hzIk2B5LbN3x",
        "outputId": "5eb4a6d9-8373-4ef4-e2fc-54136f31d1bc"
      },
      "execution_count": 9,
      "outputs": [
        {
          "output_type": "stream",
          "name": "stdout",
          "text": [
            "Random Forest Accuracy: 0.8\n",
            "XGBoost Accuracy: 0.84\n",
            "Decision Tree Accuracy: 0.76\n"
          ]
        }
      ]
    },
    {
      "cell_type": "markdown",
      "source": [
        "# Precision, Recall, F1-Score"
      ],
      "metadata": {
        "id": "L1Dn-zf4iu1z"
      }
    },
    {
      "cell_type": "code",
      "source": [
        "\n",
        "imbalanced_df['complainId'] = imbalanced_df['complainId'].replace('אוטובוס הגיע בזמן', 1).replace(['.*'], 0, regex=True).astype(int)\n",
        "\n",
        "\n",
        "X = imbalanced_df.drop(['complainId'], axis=1)\n",
        "y = imbalanced_df['complainId']\n",
        "\n",
        "# Split the data into train and test sets, stratifying by the target variable\n",
        "X_train, X_test, y_train, y_test = train_test_split(X, y, test_size=0.4, stratify=y, random_state=1)"
      ],
      "metadata": {
        "id": "XpiyN0i-cNgi"
      },
      "execution_count": 10,
      "outputs": []
    },
    {
      "cell_type": "markdown",
      "source": [
        "## Decision Tree"
      ],
      "metadata": {
        "id": "qGKpx6utqJLf"
      }
    },
    {
      "cell_type": "code",
      "source": [
        "# Create a Decision Tree Classifier\n",
        "dt_classifier = DecisionTreeClassifier(max_depth=4)\n",
        "\n",
        "# Fit the classifier to the training data\n",
        "dt_classifier.fit(X_train, y_train)\n",
        "\n",
        "# Predict using the trained classifier\n",
        "dt_predictions = dt_classifier.predict(X_test)\n",
        "\n",
        "# Predict using the trained classifier\n",
        "dt_precision = precision_score(y_test, dt_predictions)\n",
        "dt_recall = recall_score(y_test, dt_predictions)\n",
        "dt_f1 = f1_score(y_test, dt_predictions)"
      ],
      "metadata": {
        "id": "3cUSKkTtlEuO"
      },
      "execution_count": 11,
      "outputs": []
    },
    {
      "cell_type": "markdown",
      "source": [
        "## Random Forest"
      ],
      "metadata": {
        "id": "Wg_ptJkCqMBo"
      }
    },
    {
      "cell_type": "code",
      "source": [
        "# Create a Random Forest Classifier\n",
        "rf_classifier = RandomForestClassifier(n_estimators=20)\n",
        "\n",
        "# Fit the classifier to the training data\n",
        "rf_classifier.fit(X_train, y_train)\n",
        "\n",
        "# Predict using the trained classifier\n",
        "rf_predictions = rf_classifier.predict(X_test)\n",
        "rf_precision = precision_score(y_test, rf_predictions)\n",
        "rf_recall = recall_score(y_test, rf_predictions)\n",
        "rf_f1 = f1_score(y_test, rf_predictions)"
      ],
      "metadata": {
        "id": "LXqJYebokQD-"
      },
      "execution_count": 12,
      "outputs": []
    },
    {
      "cell_type": "markdown",
      "source": [
        "## XGBoost"
      ],
      "metadata": {
        "id": "oJy0O-XcqUEN"
      }
    },
    {
      "cell_type": "code",
      "source": [
        "# Create an XGBoost classifier\n",
        "xgb_classifier = xgb.XGBClassifier(n_estimators=10,max_depth=4,learning_rate=0.01)\n",
        "\n",
        "# Fit the classifier to the training data\n",
        "xgb_classifier.fit(X_train, y_train)\n",
        "\n",
        "# Predict using the trained classifier\n",
        "xgb_predictions = xgb_classifier.predict(X_test)\n",
        "\n",
        "\n",
        "xgb_precision = precision_score(y_test, xgb_predictions)\n",
        "xgb_recall = recall_score(y_test, xgb_predictions)\n",
        "xgb_f1 = f1_score(y_test, xgb_predictions)"
      ],
      "metadata": {
        "id": "RJnrfhT1fQcF"
      },
      "execution_count": 13,
      "outputs": []
    },
    {
      "cell_type": "markdown",
      "source": [
        "# Results"
      ],
      "metadata": {
        "id": "GnGzhvVfqZ6N"
      }
    },
    {
      "cell_type": "code",
      "source": [
        "print('Random Forest Precision: '+str(round(rf_precision,5)))\n",
        "\n",
        "print('XGBoost Precision: '+str(round(xgb_precision,5)))\n",
        "\n",
        "print('Decision Tree Precision: ' + str(round(dt_precision,5)))"
      ],
      "metadata": {
        "colab": {
          "base_uri": "https://localhost:8080/"
        },
        "id": "zhPA0I3xoyog",
        "outputId": "465fbecc-20e5-4cda-e097-f4015677318b"
      },
      "execution_count": 14,
      "outputs": [
        {
          "output_type": "stream",
          "name": "stdout",
          "text": [
            "Random Forest Precision: 0.69231\n",
            "XGBoost Precision: 0.72131\n",
            "Decision Tree Precision: 0.72308\n"
          ]
        }
      ]
    },
    {
      "cell_type": "code",
      "source": [
        "print('Random Forest Recall: '+str(round(rf_recall,5)))\n",
        "\n",
        "print('XGBoost Recall: '+str(round(xgb_recall,5)))\n",
        "\n",
        "print('Decision Tree Recall: ' + str(round(dt_recall,5)))"
      ],
      "metadata": {
        "colab": {
          "base_uri": "https://localhost:8080/"
        },
        "id": "bJ5eOXslpNFK",
        "outputId": "4b69965d-08bb-4e81-c8b8-ce73e99ab4bf"
      },
      "execution_count": 15,
      "outputs": [
        {
          "output_type": "stream",
          "name": "stdout",
          "text": [
            "Random Forest Recall: 0.88235\n",
            "XGBoost Recall: 0.86275\n",
            "Decision Tree Recall: 0.92157\n"
          ]
        }
      ]
    },
    {
      "cell_type": "code",
      "source": [
        "print('Random Forest F1-Score: '+str(round(rf_f1,5)))\n",
        "\n",
        "print('XGBoost F1-Score: '+str(round(xgb_f1,5)))\n",
        "\n",
        "print('Decision Tree F1-Score: ' + str(round(dt_f1,5)))"
      ],
      "metadata": {
        "colab": {
          "base_uri": "https://localhost:8080/"
        },
        "id": "WlhswCh2pO3f",
        "outputId": "82ef776d-6f3a-403f-b799-41c1fa9f6c67"
      },
      "execution_count": 16,
      "outputs": [
        {
          "output_type": "stream",
          "name": "stdout",
          "text": [
            "Random Forest F1-Score: 0.77586\n",
            "XGBoost F1-Score: 0.78571\n",
            "Decision Tree F1-Score: 0.81034\n"
          ]
        }
      ]
    }
  ]
}